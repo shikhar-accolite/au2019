{
 "cells": [
  {
   "cell_type": "markdown",
   "metadata": {},
   "source": [
    "### Imports"
   ]
  },
  {
   "cell_type": "code",
   "execution_count": 33,
   "metadata": {
    "ExecuteTime": {
     "end_time": "2019-08-12T07:09:11.734134Z",
     "start_time": "2019-08-12T07:09:11.716683Z"
    }
   },
   "outputs": [],
   "source": [
    "import pandas as pd\n",
    "import numpy as np\n",
    "import matplotlib.pyplot as plt\n",
    "%matplotlib inline\n",
    "\n",
    "import seaborn as sns\n",
    "from sklearn.preprocessing import StandardScaler, MinMaxScaler, MaxAbsScaler, Normalizer, LabelEncoder\n",
    "from sklearn.metrics import accuracy_score\n",
    "\n",
    "from sklearn.model_selection import train_test_split, StratifiedKFold, KFold, cross_val_score\n",
    "from sklearn.linear_model import LogisticRegression, LinearRegression\n",
    "from sklearn.neural_network import MLPClassifier\n",
    "from sklearn.svm import SVC, LinearSVC\n",
    "from sklearn.ensemble import AdaBoostClassifier, BaggingClassifier, ExtraTreesClassifier, GradientBoostingClassifier, RandomForestClassifier, VotingClassifier\n",
    "\n",
    "from keras.models import Sequential\n",
    "from keras.layers import Dense, Dropout\n",
    "from keras.wrappers.scikit_learn import KerasClassifier\n",
    "import h5py\n",
    "from keras import optimizers\n",
    "from keras.callbacks import EarlyStopping"
   ]
  },
  {
   "cell_type": "markdown",
   "metadata": {},
   "source": [
    "### Loading Data"
   ]
  },
  {
   "cell_type": "code",
   "execution_count": 2,
   "metadata": {
    "ExecuteTime": {
     "end_time": "2019-08-12T05:33:52.327754Z",
     "start_time": "2019-08-12T05:33:52.266581Z"
    }
   },
   "outputs": [
    {
     "data": {
      "text/html": [
       "<div>\n",
       "<style scoped>\n",
       "    .dataframe tbody tr th:only-of-type {\n",
       "        vertical-align: middle;\n",
       "    }\n",
       "\n",
       "    .dataframe tbody tr th {\n",
       "        vertical-align: top;\n",
       "    }\n",
       "\n",
       "    .dataframe thead th {\n",
       "        text-align: right;\n",
       "    }\n",
       "</style>\n",
       "<table border=\"1\" class=\"dataframe\">\n",
       "  <thead>\n",
       "    <tr style=\"text-align: right;\">\n",
       "      <th></th>\n",
       "      <th>satisfaction_level</th>\n",
       "      <th>last_evaluation</th>\n",
       "      <th>number_project</th>\n",
       "      <th>average_montly_hours</th>\n",
       "      <th>time_spend_company</th>\n",
       "      <th>Work_accident</th>\n",
       "      <th>left</th>\n",
       "      <th>promotion_last_5years</th>\n",
       "      <th>sales</th>\n",
       "      <th>salary</th>\n",
       "    </tr>\n",
       "  </thead>\n",
       "  <tbody>\n",
       "    <tr>\n",
       "      <th>0</th>\n",
       "      <td>0.38</td>\n",
       "      <td>0.53</td>\n",
       "      <td>2</td>\n",
       "      <td>157</td>\n",
       "      <td>3</td>\n",
       "      <td>0</td>\n",
       "      <td>1</td>\n",
       "      <td>0</td>\n",
       "      <td>sales</td>\n",
       "      <td>low</td>\n",
       "    </tr>\n",
       "    <tr>\n",
       "      <th>1</th>\n",
       "      <td>0.80</td>\n",
       "      <td>0.86</td>\n",
       "      <td>5</td>\n",
       "      <td>262</td>\n",
       "      <td>6</td>\n",
       "      <td>0</td>\n",
       "      <td>1</td>\n",
       "      <td>0</td>\n",
       "      <td>sales</td>\n",
       "      <td>medium</td>\n",
       "    </tr>\n",
       "    <tr>\n",
       "      <th>2</th>\n",
       "      <td>0.11</td>\n",
       "      <td>0.88</td>\n",
       "      <td>7</td>\n",
       "      <td>272</td>\n",
       "      <td>4</td>\n",
       "      <td>0</td>\n",
       "      <td>1</td>\n",
       "      <td>0</td>\n",
       "      <td>sales</td>\n",
       "      <td>medium</td>\n",
       "    </tr>\n",
       "    <tr>\n",
       "      <th>3</th>\n",
       "      <td>0.72</td>\n",
       "      <td>0.87</td>\n",
       "      <td>5</td>\n",
       "      <td>223</td>\n",
       "      <td>5</td>\n",
       "      <td>0</td>\n",
       "      <td>1</td>\n",
       "      <td>0</td>\n",
       "      <td>sales</td>\n",
       "      <td>low</td>\n",
       "    </tr>\n",
       "    <tr>\n",
       "      <th>4</th>\n",
       "      <td>0.37</td>\n",
       "      <td>0.52</td>\n",
       "      <td>2</td>\n",
       "      <td>159</td>\n",
       "      <td>3</td>\n",
       "      <td>0</td>\n",
       "      <td>1</td>\n",
       "      <td>0</td>\n",
       "      <td>sales</td>\n",
       "      <td>low</td>\n",
       "    </tr>\n",
       "  </tbody>\n",
       "</table>\n",
       "</div>"
      ],
      "text/plain": [
       "   satisfaction_level  last_evaluation  number_project  average_montly_hours  \\\n",
       "0                0.38             0.53               2                   157   \n",
       "1                0.80             0.86               5                   262   \n",
       "2                0.11             0.88               7                   272   \n",
       "3                0.72             0.87               5                   223   \n",
       "4                0.37             0.52               2                   159   \n",
       "\n",
       "   time_spend_company  Work_accident  left  promotion_last_5years  sales  \\\n",
       "0                   3              0     1                      0  sales   \n",
       "1                   6              0     1                      0  sales   \n",
       "2                   4              0     1                      0  sales   \n",
       "3                   5              0     1                      0  sales   \n",
       "4                   3              0     1                      0  sales   \n",
       "\n",
       "   salary  \n",
       "0     low  \n",
       "1  medium  \n",
       "2  medium  \n",
       "3     low  \n",
       "4     low  "
      ]
     },
     "execution_count": 2,
     "metadata": {},
     "output_type": "execute_result"
    }
   ],
   "source": [
    "hr_df = pd.read_csv(\"HR_comma_sep.csv\")\n",
    "hr_df.head()"
   ]
  },
  {
   "cell_type": "markdown",
   "metadata": {},
   "source": [
    "### Exploring the data"
   ]
  },
  {
   "cell_type": "code",
   "execution_count": 3,
   "metadata": {
    "ExecuteTime": {
     "end_time": "2019-08-12T05:33:52.532499Z",
     "start_time": "2019-08-12T05:33:52.358694Z"
    }
   },
   "outputs": [
    {
     "name": "stdout",
     "output_type": "stream",
     "text": [
      "<class 'pandas.core.frame.DataFrame'>\n",
      "RangeIndex: 14999 entries, 0 to 14998\n",
      "Data columns (total 10 columns):\n",
      "satisfaction_level       14999 non-null float64\n",
      "last_evaluation          14999 non-null float64\n",
      "number_project           14999 non-null int64\n",
      "average_montly_hours     14999 non-null int64\n",
      "time_spend_company       14999 non-null int64\n",
      "Work_accident            14999 non-null int64\n",
      "left                     14999 non-null int64\n",
      "promotion_last_5years    14999 non-null int64\n",
      "sales                    14999 non-null object\n",
      "salary                   14999 non-null object\n",
      "dtypes: float64(2), int64(6), object(2)\n",
      "memory usage: 1.1+ MB\n"
     ]
    }
   ],
   "source": [
    "hr_df.info()"
   ]
  },
  {
   "cell_type": "code",
   "execution_count": 4,
   "metadata": {
    "ExecuteTime": {
     "end_time": "2019-08-12T05:33:52.746996Z",
     "start_time": "2019-08-12T05:33:52.579285Z"
    }
   },
   "outputs": [
    {
     "data": {
      "text/html": [
       "<div>\n",
       "<style scoped>\n",
       "    .dataframe tbody tr th:only-of-type {\n",
       "        vertical-align: middle;\n",
       "    }\n",
       "\n",
       "    .dataframe tbody tr th {\n",
       "        vertical-align: top;\n",
       "    }\n",
       "\n",
       "    .dataframe thead th {\n",
       "        text-align: right;\n",
       "    }\n",
       "</style>\n",
       "<table border=\"1\" class=\"dataframe\">\n",
       "  <thead>\n",
       "    <tr style=\"text-align: right;\">\n",
       "      <th></th>\n",
       "      <th>satisfaction_level</th>\n",
       "      <th>last_evaluation</th>\n",
       "      <th>number_project</th>\n",
       "      <th>average_montly_hours</th>\n",
       "      <th>time_spend_company</th>\n",
       "      <th>Work_accident</th>\n",
       "      <th>left</th>\n",
       "      <th>promotion_last_5years</th>\n",
       "    </tr>\n",
       "  </thead>\n",
       "  <tbody>\n",
       "    <tr>\n",
       "      <th>count</th>\n",
       "      <td>14999.000000</td>\n",
       "      <td>14999.000000</td>\n",
       "      <td>14999.000000</td>\n",
       "      <td>14999.000000</td>\n",
       "      <td>14999.000000</td>\n",
       "      <td>14999.000000</td>\n",
       "      <td>14999.000000</td>\n",
       "      <td>14999.000000</td>\n",
       "    </tr>\n",
       "    <tr>\n",
       "      <th>mean</th>\n",
       "      <td>0.612834</td>\n",
       "      <td>0.716102</td>\n",
       "      <td>3.803054</td>\n",
       "      <td>201.050337</td>\n",
       "      <td>3.498233</td>\n",
       "      <td>0.144610</td>\n",
       "      <td>0.238083</td>\n",
       "      <td>0.021268</td>\n",
       "    </tr>\n",
       "    <tr>\n",
       "      <th>std</th>\n",
       "      <td>0.248631</td>\n",
       "      <td>0.171169</td>\n",
       "      <td>1.232592</td>\n",
       "      <td>49.943099</td>\n",
       "      <td>1.460136</td>\n",
       "      <td>0.351719</td>\n",
       "      <td>0.425924</td>\n",
       "      <td>0.144281</td>\n",
       "    </tr>\n",
       "    <tr>\n",
       "      <th>min</th>\n",
       "      <td>0.090000</td>\n",
       "      <td>0.360000</td>\n",
       "      <td>2.000000</td>\n",
       "      <td>96.000000</td>\n",
       "      <td>2.000000</td>\n",
       "      <td>0.000000</td>\n",
       "      <td>0.000000</td>\n",
       "      <td>0.000000</td>\n",
       "    </tr>\n",
       "    <tr>\n",
       "      <th>25%</th>\n",
       "      <td>0.440000</td>\n",
       "      <td>0.560000</td>\n",
       "      <td>3.000000</td>\n",
       "      <td>156.000000</td>\n",
       "      <td>3.000000</td>\n",
       "      <td>0.000000</td>\n",
       "      <td>0.000000</td>\n",
       "      <td>0.000000</td>\n",
       "    </tr>\n",
       "    <tr>\n",
       "      <th>50%</th>\n",
       "      <td>0.640000</td>\n",
       "      <td>0.720000</td>\n",
       "      <td>4.000000</td>\n",
       "      <td>200.000000</td>\n",
       "      <td>3.000000</td>\n",
       "      <td>0.000000</td>\n",
       "      <td>0.000000</td>\n",
       "      <td>0.000000</td>\n",
       "    </tr>\n",
       "    <tr>\n",
       "      <th>75%</th>\n",
       "      <td>0.820000</td>\n",
       "      <td>0.870000</td>\n",
       "      <td>5.000000</td>\n",
       "      <td>245.000000</td>\n",
       "      <td>4.000000</td>\n",
       "      <td>0.000000</td>\n",
       "      <td>0.000000</td>\n",
       "      <td>0.000000</td>\n",
       "    </tr>\n",
       "    <tr>\n",
       "      <th>max</th>\n",
       "      <td>1.000000</td>\n",
       "      <td>1.000000</td>\n",
       "      <td>7.000000</td>\n",
       "      <td>310.000000</td>\n",
       "      <td>10.000000</td>\n",
       "      <td>1.000000</td>\n",
       "      <td>1.000000</td>\n",
       "      <td>1.000000</td>\n",
       "    </tr>\n",
       "  </tbody>\n",
       "</table>\n",
       "</div>"
      ],
      "text/plain": [
       "       satisfaction_level  last_evaluation  number_project  \\\n",
       "count        14999.000000     14999.000000    14999.000000   \n",
       "mean             0.612834         0.716102        3.803054   \n",
       "std              0.248631         0.171169        1.232592   \n",
       "min              0.090000         0.360000        2.000000   \n",
       "25%              0.440000         0.560000        3.000000   \n",
       "50%              0.640000         0.720000        4.000000   \n",
       "75%              0.820000         0.870000        5.000000   \n",
       "max              1.000000         1.000000        7.000000   \n",
       "\n",
       "       average_montly_hours  time_spend_company  Work_accident          left  \\\n",
       "count          14999.000000        14999.000000   14999.000000  14999.000000   \n",
       "mean             201.050337            3.498233       0.144610      0.238083   \n",
       "std               49.943099            1.460136       0.351719      0.425924   \n",
       "min               96.000000            2.000000       0.000000      0.000000   \n",
       "25%              156.000000            3.000000       0.000000      0.000000   \n",
       "50%              200.000000            3.000000       0.000000      0.000000   \n",
       "75%              245.000000            4.000000       0.000000      0.000000   \n",
       "max              310.000000           10.000000       1.000000      1.000000   \n",
       "\n",
       "       promotion_last_5years  \n",
       "count           14999.000000  \n",
       "mean                0.021268  \n",
       "std                 0.144281  \n",
       "min                 0.000000  \n",
       "25%                 0.000000  \n",
       "50%                 0.000000  \n",
       "75%                 0.000000  \n",
       "max                 1.000000  "
      ]
     },
     "execution_count": 4,
     "metadata": {},
     "output_type": "execute_result"
    }
   ],
   "source": [
    "hr_df.describe()"
   ]
  },
  {
   "cell_type": "code",
   "execution_count": 5,
   "metadata": {
    "ExecuteTime": {
     "end_time": "2019-08-12T05:33:52.851432Z",
     "start_time": "2019-08-12T05:33:52.778293Z"
    }
   },
   "outputs": [
    {
     "data": {
      "text/plain": [
       "satisfaction_level       0\n",
       "last_evaluation          0\n",
       "number_project           0\n",
       "average_montly_hours     0\n",
       "time_spend_company       0\n",
       "Work_accident            0\n",
       "left                     0\n",
       "promotion_last_5years    0\n",
       "sales                    0\n",
       "salary                   0\n",
       "dtype: int64"
      ]
     },
     "execution_count": 5,
     "metadata": {},
     "output_type": "execute_result"
    }
   ],
   "source": [
    "hr_df.isnull().sum()"
   ]
  },
  {
   "cell_type": "code",
   "execution_count": 6,
   "metadata": {
    "ExecuteTime": {
     "end_time": "2019-08-12T05:33:52.943549Z",
     "start_time": "2019-08-12T05:33:52.902143Z"
    }
   },
   "outputs": [
    {
     "data": {
      "text/plain": [
       "array(['sales', 'accounting', 'hr', 'technical', 'support', 'management',\n",
       "       'IT', 'product_mng', 'marketing', 'RandD'], dtype=object)"
      ]
     },
     "execution_count": 6,
     "metadata": {},
     "output_type": "execute_result"
    }
   ],
   "source": [
    "hr_df.sales.unique()"
   ]
  },
  {
   "cell_type": "code",
   "execution_count": 7,
   "metadata": {
    "ExecuteTime": {
     "end_time": "2019-08-12T05:33:53.087542Z",
     "start_time": "2019-08-12T05:33:52.983730Z"
    }
   },
   "outputs": [
    {
     "data": {
      "text/plain": [
       "array(['low', 'medium', 'high'], dtype=object)"
      ]
     },
     "execution_count": 7,
     "metadata": {},
     "output_type": "execute_result"
    }
   ],
   "source": [
    "hr_df.salary.unique()"
   ]
  },
  {
   "cell_type": "markdown",
   "metadata": {},
   "source": [
    "### Visualizing the data"
   ]
  },
  {
   "cell_type": "code",
   "execution_count": 8,
   "metadata": {
    "ExecuteTime": {
     "end_time": "2019-08-12T05:33:55.839575Z",
     "start_time": "2019-08-12T05:33:53.088541Z"
    }
   },
   "outputs": [
    {
     "name": "stderr",
     "output_type": "stream",
     "text": [
      "C:\\Users\\shikhar.srivastava\\AppData\\Local\\Continuum\\anaconda3\\lib\\site-packages\\IPython\\core\\interactiveshell.py:3296: UserWarning: To output multiple subplots, the figure containing the passed axes is being cleared\n",
      "  exec(code_obj, self.user_global_ns, self.user_ns)\n"
     ]
    },
    {
     "data": {
      "text/plain": [
       "array([[<matplotlib.axes._subplots.AxesSubplot object at 0x0000023C96A74BA8>,\n",
       "        <matplotlib.axes._subplots.AxesSubplot object at 0x0000023C96DB14A8>,\n",
       "        <matplotlib.axes._subplots.AxesSubplot object at 0x0000023C96DD9A20>],\n",
       "       [<matplotlib.axes._subplots.AxesSubplot object at 0x0000023C96DFEF60>,\n",
       "        <matplotlib.axes._subplots.AxesSubplot object at 0x0000023C96E27CF8>,\n",
       "        <matplotlib.axes._subplots.AxesSubplot object at 0x0000023C96E55390>],\n",
       "       [<matplotlib.axes._subplots.AxesSubplot object at 0x0000023C96E7E828>,\n",
       "        <matplotlib.axes._subplots.AxesSubplot object at 0x0000023C96EA6DA0>,\n",
       "        <matplotlib.axes._subplots.AxesSubplot object at 0x0000023C96EA6DD8>]],\n",
       "      dtype=object)"
      ]
     },
     "execution_count": 8,
     "metadata": {},
     "output_type": "execute_result"
    },
    {
     "data": {
      "image/png": "[encoded data removed]",
      "text/plain": [
       "<Figure size 1080x1440 with 9 Axes>"
      ]
     },
     "metadata": {
      "needs_background": "light"
     },
     "output_type": "display_data"
    }
   ],
   "source": [
    "fig = plt.figure(figsize = (15,20))\n",
    "ax = fig.gca()\n",
    "\n",
    "hr_df.hist(ax=ax)"
   ]
  },
  {
   "cell_type": "code",
   "execution_count": 9,
   "metadata": {
    "ExecuteTime": {
     "end_time": "2019-08-12T05:33:56.207409Z",
     "start_time": "2019-08-12T05:33:55.842566Z"
    }
   },
   "outputs": [
    {
     "data": {
      "text/plain": [
       "<matplotlib.axes._subplots.AxesSubplot at 0x23c976c9128>"
      ]
     },
     "execution_count": 9,
     "metadata": {},
     "output_type": "execute_result"
    },
    {
     "data": {
      "image/png": "[encoded data removed]",
      "text/plain": [
       "<Figure size 432x288 with 1 Axes>"
      ]
     },
     "metadata": {
      "needs_background": "light"
     },
     "output_type": "display_data"
    }
   ],
   "source": [
    "ax = sns.kdeplot(hr_df.loc[ (hr_df.left == 1) , \"satisfaction_level\" ], legend=True, label=\"left\")\n",
    "sns.kdeplot(hr_df.loc[ (hr_df.left == 0) , \"satisfaction_level\" ], legend=True, ax=ax, label=\"not_left\")"
   ]
  },
  {
   "cell_type": "code",
   "execution_count": 10,
   "metadata": {
    "ExecuteTime": {
     "end_time": "2019-08-12T05:33:56.541235Z",
     "start_time": "2019-08-12T05:33:56.209387Z"
    }
   },
   "outputs": [
    {
     "data": {
      "text/plain": [
       "<matplotlib.axes._subplots.AxesSubplot at 0x23c977dbeb8>"
      ]
     },
     "execution_count": 10,
     "metadata": {},
     "output_type": "execute_result"
    },
    {
     "data": {
      "image/png": "[encoded data removed]",
      "text/plain": [
       "<Figure size 432x288 with 1 Axes>"
      ]
     },
     "metadata": {
      "needs_background": "light"
     },
     "output_type": "display_data"
    }
   ],
   "source": [
    "ax = sns.kdeplot(hr_df.loc[ (hr_df.left == 1) , \"average_montly_hours\" ], legend=True, label=\"left\")\n",
    "sns.kdeplot(hr_df.loc[ (hr_df.left == 0) , \"average_montly_hours\" ], legend=True, ax=ax, label=\"not_left\")"
   ]
  },
  {
   "cell_type": "code",
   "execution_count": 11,
   "metadata": {
    "ExecuteTime": {
     "end_time": "2019-08-12T05:33:56.878555Z",
     "start_time": "2019-08-12T05:33:56.543516Z"
    }
   },
   "outputs": [
    {
     "data": {
      "text/plain": [
       "<matplotlib.axes._subplots.AxesSubplot at 0x23c97062dd8>"
      ]
     },
     "execution_count": 11,
     "metadata": {},
     "output_type": "execute_result"
    },
    {
     "data": {
      "image/png": "[encoded data removed]",
      "text/plain": [
       "<Figure size 432x288 with 1 Axes>"
      ]
     },
     "metadata": {
      "needs_background": "light"
     },
     "output_type": "display_data"
    }
   ],
   "source": [
    "ax = sns.kdeplot(hr_df.loc[ (hr_df.left == 1) , \"last_evaluation\" ], legend=True, label=\"left\")\n",
    "sns.kdeplot(hr_df.loc[ (hr_df.left == 0) , \"last_evaluation\" ], legend=True, ax=ax, label=\"not_left\")"
   ]
  },
  {
   "cell_type": "code",
   "execution_count": 12,
   "metadata": {
    "ExecuteTime": {
     "end_time": "2019-08-12T05:33:57.265029Z",
     "start_time": "2019-08-12T05:33:56.881575Z"
    }
   },
   "outputs": [
    {
     "data": {
      "text/plain": [
       "<matplotlib.axes._subplots.AxesSubplot at 0x23c970a1a90>"
      ]
     },
     "execution_count": 12,
     "metadata": {},
     "output_type": "execute_result"
    },
    {
     "data": {
      "image/png": "[encoded data removed]",
      "text/plain": [
       "<Figure size 432x288 with 1 Axes>"
      ]
     },
     "metadata": {
      "needs_background": "light"
     },
     "output_type": "display_data"
    }
   ],
   "source": [
    "ax = sns.kdeplot(hr_df.loc[ (hr_df.left == 1) , \"number_project\" ], legend=True, label=\"left\")\n",
    "sns.kdeplot(hr_df.loc[ (hr_df.left == 0) , \"number_project\" ], legend=True, ax=ax, label=\"not_left\")"
   ]
  },
  {
   "cell_type": "code",
   "execution_count": 13,
   "metadata": {
    "ExecuteTime": {
     "end_time": "2019-08-12T05:33:57.587742Z",
     "start_time": "2019-08-12T05:33:57.265029Z"
    }
   },
   "outputs": [
    {
     "data": {
      "text/plain": [
       "<matplotlib.axes._subplots.AxesSubplot at 0x23c97140400>"
      ]
     },
     "execution_count": 13,
     "metadata": {},
     "output_type": "execute_result"
    },
    {
     "data": {
      "image/png": "[encoded data removed]",
      "text/plain": [
       "<Figure size 432x288 with 1 Axes>"
      ]
     },
     "metadata": {
      "needs_background": "light"
     },
     "output_type": "display_data"
    }
   ],
   "source": [
    "ax = sns.kdeplot(hr_df.loc[ (hr_df.left == 1) , \"time_spend_company\" ], legend=True, label=\"left\")\n",
    "sns.kdeplot(hr_df.loc[ (hr_df.left == 0) , \"time_spend_company\" ], legend=True, ax=ax, label=\"not_left\")"
   ]
  },
  {
   "cell_type": "code",
   "execution_count": 14,
   "metadata": {
    "ExecuteTime": {
     "end_time": "2019-08-12T05:34:01.856113Z",
     "start_time": "2019-08-12T05:33:57.875271Z"
    }
   },
   "outputs": [
    {
     "name": "stderr",
     "output_type": "stream",
     "text": [
      "C:\\Users\\shikhar.srivastava\\AppData\\Local\\Continuum\\anaconda3\\lib\\site-packages\\sklearn\\preprocessing\\data.py:645: DataConversionWarning: Data with input dtype int64, float64 were all converted to float64 by StandardScaler.\n",
      "  return self.partial_fit(X, y)\n",
      "C:\\Users\\shikhar.srivastava\\AppData\\Local\\Continuum\\anaconda3\\lib\\site-packages\\sklearn\\base.py:464: DataConversionWarning: Data with input dtype int64, float64 were all converted to float64 by StandardScaler.\n",
      "  return self.fit(X, **fit_params).transform(X)\n",
      "C:\\Users\\shikhar.srivastava\\AppData\\Local\\Continuum\\anaconda3\\lib\\site-packages\\IPython\\core\\interactiveshell.py:3296: UserWarning: To output multiple subplots, the figure containing the passed axes is being cleared\n",
      "  exec(code_obj, self.user_global_ns, self.user_ns)\n",
      "C:\\Users\\shikhar.srivastava\\AppData\\Local\\Continuum\\anaconda3\\lib\\site-packages\\sklearn\\preprocessing\\data.py:334: DataConversionWarning: Data with input dtype int64, float64 were all converted to float64 by MinMaxScaler.\n",
      "  return self.partial_fit(X, y)\n",
      "C:\\Users\\shikhar.srivastava\\AppData\\Local\\Continuum\\anaconda3\\lib\\site-packages\\IPython\\core\\interactiveshell.py:3296: UserWarning: To output multiple subplots, the figure containing the passed axes is being cleared\n",
      "  exec(code_obj, self.user_global_ns, self.user_ns)\n",
      "C:\\Users\\shikhar.srivastava\\AppData\\Local\\Continuum\\anaconda3\\lib\\site-packages\\IPython\\core\\interactiveshell.py:3296: UserWarning: To output multiple subplots, the figure containing the passed axes is being cleared\n",
      "  exec(code_obj, self.user_global_ns, self.user_ns)\n",
      "C:\\Users\\shikhar.srivastava\\AppData\\Local\\Continuum\\anaconda3\\lib\\site-packages\\IPython\\core\\interactiveshell.py:3296: UserWarning: To output multiple subplots, the figure containing the passed axes is being cleared\n",
      "  exec(code_obj, self.user_global_ns, self.user_ns)\n"
     ]
    },
    {
     "data": {
      "image/png": "[encoded data removed]",
      "text/plain": [
       "<Figure size 576x720 with 4 Axes>"
      ]
     },
     "metadata": {
      "needs_background": "light"
     },
     "output_type": "display_data"
    },
    {
     "data": {
      "image/png": "[encoded data removed]",
      "text/plain": [
       "<Figure size 576x720 with 4 Axes>"
      ]
     },
     "metadata": {
      "needs_background": "light"
     },
     "output_type": "display_data"
    },
    {
     "data": {
      "image/png": "[encoded data removed]",
      "text/plain": [
       "<Figure size 576x720 with 4 Axes>"
      ]
     },
     "metadata": {
      "needs_background": "light"
     },
     "output_type": "display_data"
    },
    {
     "data": {
      "image/png": "[encoded data removed]",
      "text/plain": [
       "<Figure size 576x720 with 4 Axes>"
      ]
     },
     "metadata": {
      "needs_background": "light"
     },
     "output_type": "display_data"
    }
   ],
   "source": [
    "scalers = { 'StandardScaler' : StandardScaler(), 'MinMaxScaler' : MinMaxScaler(), 'MaxAbsScaler' : MaxAbsScaler(), 'Normalizer' : Normalizer() }\n",
    "\n",
    "for scaler_name, scaler in scalers.items() :\n",
    "    \n",
    "    hr_df_scaled = scaler.fit_transform( hr_df[[\"average_montly_hours\", \"last_evaluation\", \"satisfaction_level\"]] )\n",
    "    fig = plt.figure(figsize = (8, 10))\n",
    "    ax = fig.gca()\n",
    "    \n",
    "    pd.DataFrame(hr_df_scaled).hist(ax=ax)"
   ]
  },
  {
   "cell_type": "code",
   "execution_count": 15,
   "metadata": {
    "ExecuteTime": {
     "end_time": "2019-08-12T05:34:02.394934Z",
     "start_time": "2019-08-12T05:34:01.884038Z"
    }
   },
   "outputs": [
    {
     "data": {
      "text/plain": [
       "<matplotlib.axes._subplots.AxesSubplot at 0x23c98f23da0>"
      ]
     },
     "execution_count": 15,
     "metadata": {},
     "output_type": "execute_result"
    },
    {
     "data": {
      "image/png": "[encoded data removed]",
      "text/plain": [
       "<Figure size 432x288 with 2 Axes>"
      ]
     },
     "metadata": {
      "needs_background": "light"
     },
     "output_type": "display_data"
    }
   ],
   "source": [
    "sns.heatmap( hr_df.corr() )"
   ]
  },
  {
   "cell_type": "markdown",
   "metadata": {},
   "source": [
    "### Benchmark if everyone stays"
   ]
  },
  {
   "cell_type": "code",
   "execution_count": 16,
   "metadata": {
    "ExecuteTime": {
     "end_time": "2019-08-12T05:34:02.440607Z",
     "start_time": "2019-08-12T05:34:02.431339Z"
    }
   },
   "outputs": [],
   "source": [
    "X = hr_df.drop( [\"sales\", \"salary\", \"left\"], axis=1 )\n",
    "y = hr_df[\"left\"].values"
   ]
  },
  {
   "cell_type": "code",
   "execution_count": 17,
   "metadata": {
    "ExecuteTime": {
     "end_time": "2019-08-12T05:34:02.557001Z",
     "start_time": "2019-08-12T05:34:02.499811Z"
    }
   },
   "outputs": [
    {
     "data": {
      "text/plain": [
       "0.7619174611640777"
      ]
     },
     "execution_count": 17,
     "metadata": {},
     "output_type": "execute_result"
    }
   ],
   "source": [
    "y_pred = np.zeros( y.shape[0] )\n",
    "accuracy_score(y, y_pred)"
   ]
  },
  {
   "cell_type": "markdown",
   "metadata": {},
   "source": [
    "### Data Cleaning"
   ]
  },
  {
   "cell_type": "code",
   "execution_count": 18,
   "metadata": {
    "ExecuteTime": {
     "end_time": "2019-08-12T05:34:02.725811Z",
     "start_time": "2019-08-12T05:34:02.616350Z"
    }
   },
   "outputs": [
    {
     "name": "stdout",
     "output_type": "stream",
     "text": [
      "<class 'pandas.core.frame.DataFrame'>\n",
      "RangeIndex: 14999 entries, 0 to 14998\n",
      "Data columns (total 10 columns):\n",
      "satisfaction_level       14999 non-null float64\n",
      "last_evaluation          14999 non-null float64\n",
      "number_project           14999 non-null int64\n",
      "average_montly_hours     14999 non-null int64\n",
      "time_spend_company       14999 non-null int64\n",
      "Work_accident            14999 non-null int64\n",
      "left                     14999 non-null int64\n",
      "promotion_last_5years    14999 non-null int64\n",
      "sales                    14999 non-null object\n",
      "salary                   14999 non-null object\n",
      "dtypes: float64(2), int64(6), object(2)\n",
      "memory usage: 1.1+ MB\n"
     ]
    }
   ],
   "source": [
    "hr_df.info()"
   ]
  },
  {
   "cell_type": "code",
   "execution_count": 19,
   "metadata": {
    "ExecuteTime": {
     "end_time": "2019-08-12T05:34:03.017410Z",
     "start_time": "2019-08-12T05:34:02.842095Z"
    }
   },
   "outputs": [
    {
     "data": {
      "text/html": [
       "<div>\n",
       "<style scoped>\n",
       "    .dataframe tbody tr th:only-of-type {\n",
       "        vertical-align: middle;\n",
       "    }\n",
       "\n",
       "    .dataframe tbody tr th {\n",
       "        vertical-align: top;\n",
       "    }\n",
       "\n",
       "    .dataframe thead th {\n",
       "        text-align: right;\n",
       "    }\n",
       "</style>\n",
       "<table border=\"1\" class=\"dataframe\">\n",
       "  <thead>\n",
       "    <tr style=\"text-align: right;\">\n",
       "      <th></th>\n",
       "      <th>satisfaction_level</th>\n",
       "      <th>last_evaluation</th>\n",
       "      <th>number_project</th>\n",
       "      <th>average_montly_hours</th>\n",
       "      <th>time_spend_company</th>\n",
       "      <th>Work_accident</th>\n",
       "      <th>left</th>\n",
       "      <th>promotion_last_5years</th>\n",
       "    </tr>\n",
       "  </thead>\n",
       "  <tbody>\n",
       "    <tr>\n",
       "      <th>count</th>\n",
       "      <td>14999.000000</td>\n",
       "      <td>14999.000000</td>\n",
       "      <td>14999.000000</td>\n",
       "      <td>14999.000000</td>\n",
       "      <td>14999.000000</td>\n",
       "      <td>14999.000000</td>\n",
       "      <td>14999.000000</td>\n",
       "      <td>14999.000000</td>\n",
       "    </tr>\n",
       "    <tr>\n",
       "      <th>mean</th>\n",
       "      <td>0.612834</td>\n",
       "      <td>0.716102</td>\n",
       "      <td>3.803054</td>\n",
       "      <td>201.050337</td>\n",
       "      <td>3.498233</td>\n",
       "      <td>0.144610</td>\n",
       "      <td>0.238083</td>\n",
       "      <td>0.021268</td>\n",
       "    </tr>\n",
       "    <tr>\n",
       "      <th>std</th>\n",
       "      <td>0.248631</td>\n",
       "      <td>0.171169</td>\n",
       "      <td>1.232592</td>\n",
       "      <td>49.943099</td>\n",
       "      <td>1.460136</td>\n",
       "      <td>0.351719</td>\n",
       "      <td>0.425924</td>\n",
       "      <td>0.144281</td>\n",
       "    </tr>\n",
       "    <tr>\n",
       "      <th>min</th>\n",
       "      <td>0.090000</td>\n",
       "      <td>0.360000</td>\n",
       "      <td>2.000000</td>\n",
       "      <td>96.000000</td>\n",
       "      <td>2.000000</td>\n",
       "      <td>0.000000</td>\n",
       "      <td>0.000000</td>\n",
       "      <td>0.000000</td>\n",
       "    </tr>\n",
       "    <tr>\n",
       "      <th>25%</th>\n",
       "      <td>0.440000</td>\n",
       "      <td>0.560000</td>\n",
       "      <td>3.000000</td>\n",
       "      <td>156.000000</td>\n",
       "      <td>3.000000</td>\n",
       "      <td>0.000000</td>\n",
       "      <td>0.000000</td>\n",
       "      <td>0.000000</td>\n",
       "    </tr>\n",
       "    <tr>\n",
       "      <th>50%</th>\n",
       "      <td>0.640000</td>\n",
       "      <td>0.720000</td>\n",
       "      <td>4.000000</td>\n",
       "      <td>200.000000</td>\n",
       "      <td>3.000000</td>\n",
       "      <td>0.000000</td>\n",
       "      <td>0.000000</td>\n",
       "      <td>0.000000</td>\n",
       "    </tr>\n",
       "    <tr>\n",
       "      <th>75%</th>\n",
       "      <td>0.820000</td>\n",
       "      <td>0.870000</td>\n",
       "      <td>5.000000</td>\n",
       "      <td>245.000000</td>\n",
       "      <td>4.000000</td>\n",
       "      <td>0.000000</td>\n",
       "      <td>0.000000</td>\n",
       "      <td>0.000000</td>\n",
       "    </tr>\n",
       "    <tr>\n",
       "      <th>max</th>\n",
       "      <td>1.000000</td>\n",
       "      <td>1.000000</td>\n",
       "      <td>7.000000</td>\n",
       "      <td>310.000000</td>\n",
       "      <td>10.000000</td>\n",
       "      <td>1.000000</td>\n",
       "      <td>1.000000</td>\n",
       "      <td>1.000000</td>\n",
       "    </tr>\n",
       "  </tbody>\n",
       "</table>\n",
       "</div>"
      ],
      "text/plain": [
       "       satisfaction_level  last_evaluation  number_project  \\\n",
       "count        14999.000000     14999.000000    14999.000000   \n",
       "mean             0.612834         0.716102        3.803054   \n",
       "std              0.248631         0.171169        1.232592   \n",
       "min              0.090000         0.360000        2.000000   \n",
       "25%              0.440000         0.560000        3.000000   \n",
       "50%              0.640000         0.720000        4.000000   \n",
       "75%              0.820000         0.870000        5.000000   \n",
       "max              1.000000         1.000000        7.000000   \n",
       "\n",
       "       average_montly_hours  time_spend_company  Work_accident          left  \\\n",
       "count          14999.000000        14999.000000   14999.000000  14999.000000   \n",
       "mean             201.050337            3.498233       0.144610      0.238083   \n",
       "std               49.943099            1.460136       0.351719      0.425924   \n",
       "min               96.000000            2.000000       0.000000      0.000000   \n",
       "25%              156.000000            3.000000       0.000000      0.000000   \n",
       "50%              200.000000            3.000000       0.000000      0.000000   \n",
       "75%              245.000000            4.000000       0.000000      0.000000   \n",
       "max              310.000000           10.000000       1.000000      1.000000   \n",
       "\n",
       "       promotion_last_5years  \n",
       "count           14999.000000  \n",
       "mean                0.021268  \n",
       "std                 0.144281  \n",
       "min                 0.000000  \n",
       "25%                 0.000000  \n",
       "50%                 0.000000  \n",
       "75%                 0.000000  \n",
       "max                 1.000000  "
      ]
     },
     "execution_count": 19,
     "metadata": {},
     "output_type": "execute_result"
    }
   ],
   "source": [
    "hr_df.describe()"
   ]
  },
  {
   "cell_type": "code",
   "execution_count": 20,
   "metadata": {
    "ExecuteTime": {
     "end_time": "2019-08-12T05:34:03.162753Z",
     "start_time": "2019-08-12T05:34:03.119162Z"
    }
   },
   "outputs": [
    {
     "data": {
      "text/html": [
       "<div>\n",
       "<style scoped>\n",
       "    .dataframe tbody tr th:only-of-type {\n",
       "        vertical-align: middle;\n",
       "    }\n",
       "\n",
       "    .dataframe tbody tr th {\n",
       "        vertical-align: top;\n",
       "    }\n",
       "\n",
       "    .dataframe thead th {\n",
       "        text-align: right;\n",
       "    }\n",
       "</style>\n",
       "<table border=\"1\" class=\"dataframe\">\n",
       "  <thead>\n",
       "    <tr style=\"text-align: right;\">\n",
       "      <th></th>\n",
       "      <th>satisfaction_level</th>\n",
       "      <th>last_evaluation</th>\n",
       "      <th>number_project</th>\n",
       "      <th>average_montly_hours</th>\n",
       "      <th>time_spend_company</th>\n",
       "      <th>Work_accident</th>\n",
       "      <th>promotion_last_5years</th>\n",
       "      <th>sales_IT</th>\n",
       "      <th>sales_RandD</th>\n",
       "      <th>sales_accounting</th>\n",
       "      <th>sales_hr</th>\n",
       "      <th>sales_management</th>\n",
       "      <th>sales_marketing</th>\n",
       "      <th>sales_product_mng</th>\n",
       "      <th>sales_sales</th>\n",
       "      <th>sales_support</th>\n",
       "      <th>sales_technical</th>\n",
       "      <th>salary_high</th>\n",
       "      <th>salary_low</th>\n",
       "      <th>salary_medium</th>\n",
       "    </tr>\n",
       "  </thead>\n",
       "  <tbody>\n",
       "    <tr>\n",
       "      <th>0</th>\n",
       "      <td>0.38</td>\n",
       "      <td>0.53</td>\n",
       "      <td>2</td>\n",
       "      <td>157</td>\n",
       "      <td>3</td>\n",
       "      <td>0</td>\n",
       "      <td>0</td>\n",
       "      <td>0</td>\n",
       "      <td>0</td>\n",
       "      <td>0</td>\n",
       "      <td>0</td>\n",
       "      <td>0</td>\n",
       "      <td>0</td>\n",
       "      <td>0</td>\n",
       "      <td>1</td>\n",
       "      <td>0</td>\n",
       "      <td>0</td>\n",
       "      <td>0</td>\n",
       "      <td>1</td>\n",
       "      <td>0</td>\n",
       "    </tr>\n",
       "    <tr>\n",
       "      <th>1</th>\n",
       "      <td>0.80</td>\n",
       "      <td>0.86</td>\n",
       "      <td>5</td>\n",
       "      <td>262</td>\n",
       "      <td>6</td>\n",
       "      <td>0</td>\n",
       "      <td>0</td>\n",
       "      <td>0</td>\n",
       "      <td>0</td>\n",
       "      <td>0</td>\n",
       "      <td>0</td>\n",
       "      <td>0</td>\n",
       "      <td>0</td>\n",
       "      <td>0</td>\n",
       "      <td>1</td>\n",
       "      <td>0</td>\n",
       "      <td>0</td>\n",
       "      <td>0</td>\n",
       "      <td>0</td>\n",
       "      <td>1</td>\n",
       "    </tr>\n",
       "    <tr>\n",
       "      <th>2</th>\n",
       "      <td>0.11</td>\n",
       "      <td>0.88</td>\n",
       "      <td>7</td>\n",
       "      <td>272</td>\n",
       "      <td>4</td>\n",
       "      <td>0</td>\n",
       "      <td>0</td>\n",
       "      <td>0</td>\n",
       "      <td>0</td>\n",
       "      <td>0</td>\n",
       "      <td>0</td>\n",
       "      <td>0</td>\n",
       "      <td>0</td>\n",
       "      <td>0</td>\n",
       "      <td>1</td>\n",
       "      <td>0</td>\n",
       "      <td>0</td>\n",
       "      <td>0</td>\n",
       "      <td>0</td>\n",
       "      <td>1</td>\n",
       "    </tr>\n",
       "    <tr>\n",
       "      <th>3</th>\n",
       "      <td>0.72</td>\n",
       "      <td>0.87</td>\n",
       "      <td>5</td>\n",
       "      <td>223</td>\n",
       "      <td>5</td>\n",
       "      <td>0</td>\n",
       "      <td>0</td>\n",
       "      <td>0</td>\n",
       "      <td>0</td>\n",
       "      <td>0</td>\n",
       "      <td>0</td>\n",
       "      <td>0</td>\n",
       "      <td>0</td>\n",
       "      <td>0</td>\n",
       "      <td>1</td>\n",
       "      <td>0</td>\n",
       "      <td>0</td>\n",
       "      <td>0</td>\n",
       "      <td>1</td>\n",
       "      <td>0</td>\n",
       "    </tr>\n",
       "    <tr>\n",
       "      <th>4</th>\n",
       "      <td>0.37</td>\n",
       "      <td>0.52</td>\n",
       "      <td>2</td>\n",
       "      <td>159</td>\n",
       "      <td>3</td>\n",
       "      <td>0</td>\n",
       "      <td>0</td>\n",
       "      <td>0</td>\n",
       "      <td>0</td>\n",
       "      <td>0</td>\n",
       "      <td>0</td>\n",
       "      <td>0</td>\n",
       "      <td>0</td>\n",
       "      <td>0</td>\n",
       "      <td>1</td>\n",
       "      <td>0</td>\n",
       "      <td>0</td>\n",
       "      <td>0</td>\n",
       "      <td>1</td>\n",
       "      <td>0</td>\n",
       "    </tr>\n",
       "  </tbody>\n",
       "</table>\n",
       "</div>"
      ],
      "text/plain": [
       "   satisfaction_level  last_evaluation  number_project  average_montly_hours  \\\n",
       "0                0.38             0.53               2                   157   \n",
       "1                0.80             0.86               5                   262   \n",
       "2                0.11             0.88               7                   272   \n",
       "3                0.72             0.87               5                   223   \n",
       "4                0.37             0.52               2                   159   \n",
       "\n",
       "   time_spend_company  Work_accident  promotion_last_5years  sales_IT  \\\n",
       "0                   3              0                      0         0   \n",
       "1                   6              0                      0         0   \n",
       "2                   4              0                      0         0   \n",
       "3                   5              0                      0         0   \n",
       "4                   3              0                      0         0   \n",
       "\n",
       "   sales_RandD  sales_accounting  sales_hr  sales_management  sales_marketing  \\\n",
       "0            0                 0         0                 0                0   \n",
       "1            0                 0         0                 0                0   \n",
       "2            0                 0         0                 0                0   \n",
       "3            0                 0         0                 0                0   \n",
       "4            0                 0         0                 0                0   \n",
       "\n",
       "   sales_product_mng  sales_sales  sales_support  sales_technical  \\\n",
       "0                  0            1              0                0   \n",
       "1                  0            1              0                0   \n",
       "2                  0            1              0                0   \n",
       "3                  0            1              0                0   \n",
       "4                  0            1              0                0   \n",
       "\n",
       "   salary_high  salary_low  salary_medium  \n",
       "0            0           1              0  \n",
       "1            0           0              1  \n",
       "2            0           0              1  \n",
       "3            0           1              0  \n",
       "4            0           1              0  "
      ]
     },
     "execution_count": 20,
     "metadata": {},
     "output_type": "execute_result"
    }
   ],
   "source": [
    "encoded_col = pd.get_dummies( hr_df[[\"sales\", \"salary\"]] )\n",
    "hr_df_encoded = pd.concat([hr_df.drop([\"sales\", \"salary\", \"left\"], axis=1), encoded_col], axis=1)\n",
    "hr_df_encoded.head()"
   ]
  },
  {
   "cell_type": "markdown",
   "metadata": {},
   "source": [
    "### Scaling the data"
   ]
  },
  {
   "cell_type": "code",
   "execution_count": 21,
   "metadata": {
    "ExecuteTime": {
     "end_time": "2019-08-12T05:34:03.323991Z",
     "start_time": "2019-08-12T05:34:03.283940Z"
    }
   },
   "outputs": [
    {
     "name": "stderr",
     "output_type": "stream",
     "text": [
      "C:\\Users\\shikhar.srivastava\\AppData\\Local\\Continuum\\anaconda3\\lib\\site-packages\\sklearn\\preprocessing\\data.py:645: DataConversionWarning: Data with input dtype uint8, int64, float64 were all converted to float64 by StandardScaler.\n",
      "  return self.partial_fit(X, y)\n",
      "C:\\Users\\shikhar.srivastava\\AppData\\Local\\Continuum\\anaconda3\\lib\\site-packages\\sklearn\\base.py:464: DataConversionWarning: Data with input dtype uint8, int64, float64 were all converted to float64 by StandardScaler.\n",
      "  return self.fit(X, **fit_params).transform(X)\n"
     ]
    }
   ],
   "source": [
    "scaler = StandardScaler()\n",
    "hr_df_scaled_X = scaler.fit_transform( hr_df_encoded )"
   ]
  },
  {
   "cell_type": "code",
   "execution_count": 22,
   "metadata": {
    "ExecuteTime": {
     "end_time": "2019-08-12T05:34:03.482230Z",
     "start_time": "2019-08-12T05:34:03.474579Z"
    }
   },
   "outputs": [],
   "source": [
    "X = hr_df_scaled_X.copy()\n",
    "y = hr_df[\"left\"].values"
   ]
  },
  {
   "cell_type": "markdown",
   "metadata": {},
   "source": [
    "### Splitting the data"
   ]
  },
  {
   "cell_type": "code",
   "execution_count": 23,
   "metadata": {
    "ExecuteTime": {
     "end_time": "2019-08-12T05:34:03.597431Z",
     "start_time": "2019-08-12T05:34:03.584704Z"
    }
   },
   "outputs": [],
   "source": [
    "X_train, X_test, y_train, y_test = train_test_split(X, y, test_size=0.20, random_state=42)"
   ]
  },
  {
   "cell_type": "markdown",
   "metadata": {},
   "source": [
    "### Modeling using available features"
   ]
  },
  {
   "cell_type": "code",
   "execution_count": 41,
   "metadata": {
    "ExecuteTime": {
     "end_time": "2019-08-12T07:21:17.455643Z",
     "start_time": "2019-08-12T07:21:17.442259Z"
    }
   },
   "outputs": [],
   "source": [
    "classifiers = { 'Logistic Regression' : LogisticRegression(n_jobs=-1),\n",
    "               'MLPClassifier' : MLPClassifier(),\n",
    "               'RandomForestClassifier' : RandomForestClassifier(bootstrap=True, class_weight=None, criterion='entropy',\n",
    "                                                                max_depth=20, max_features='auto', max_leaf_nodes=None,\n",
    "                                                                min_impurity_decrease=0.0, min_impurity_split=None,\n",
    "                                                                min_samples_leaf=1, min_samples_split=2,\n",
    "                                                                min_weight_fraction_leaf=0.0, n_estimators=30, n_jobs=-1,\n",
    "                                                                oob_score=True, random_state=42, verbose=0, warm_start=False),\n",
    "               'AdaBoostClassifier' : AdaBoostClassifier(),\n",
    "               'BaggingClassifier' : BaggingClassifier(n_jobs=-1),\n",
    "               'ExtraTreesClassifier' : ExtraTreesClassifier(n_jobs=-1),\n",
    "               'GradientBoostingClassifier' : GradientBoostingClassifier() }"
   ]
  },
  {
   "cell_type": "raw",
   "metadata": {
    "ExecuteTime": {
     "end_time": "2019-08-12T05:34:03.901925Z",
     "start_time": "2019-08-12T05:34:03.890361Z"
    }
   },
   "source": [
    "classifiers = { \n",
    "               'RandomForestClassifier' : RandomForestClassifier(bootstrap=True, class_weight=None, criterion='entropy',\n",
    "            max_depth=20, max_features='auto', max_leaf_nodes=None,\n",
    "            min_impurity_decrease=0.0, min_impurity_split=None,\n",
    "            min_samples_leaf=1, min_samples_split=2,\n",
    "            min_weight_fraction_leaf=0.0, n_estimators=30, n_jobs=-1,\n",
    "            oob_score=True, random_state=42, verbose=0,\n",
    "            warm_start=False),\n",
    "                }"
   ]
  },
  {
   "cell_type": "code",
   "execution_count": 42,
   "metadata": {
    "ExecuteTime": {
     "end_time": "2019-08-12T07:21:44.510508Z",
     "start_time": "2019-08-12T07:21:19.495024Z"
    }
   },
   "outputs": [
    {
     "name": "stderr",
     "output_type": "stream",
     "text": [
      "C:\\Users\\shikhar.srivastava\\AppData\\Local\\Continuum\\anaconda3\\lib\\site-packages\\sklearn\\linear_model\\logistic.py:433: FutureWarning: Default solver will be changed to 'lbfgs' in 0.22. Specify a solver to silence this warning.\n",
      "  FutureWarning)\n",
      "C:\\Users\\shikhar.srivastava\\AppData\\Local\\Continuum\\anaconda3\\lib\\site-packages\\sklearn\\linear_model\\logistic.py:1300: UserWarning: 'n_jobs' > 1 does not have any effect when 'solver' is set to 'liblinear'. Got 'n_jobs' = 8.\n",
      "  \" = {}.\".format(effective_n_jobs(self.n_jobs)))\n"
     ]
    },
    {
     "name": "stdout",
     "output_type": "stream",
     "text": [
      "Logistic Regression : 0.7843333333333333\n"
     ]
    },
    {
     "name": "stderr",
     "output_type": "stream",
     "text": [
      "C:\\Users\\shikhar.srivastava\\AppData\\Local\\Continuum\\anaconda3\\lib\\site-packages\\sklearn\\neural_network\\multilayer_perceptron.py:562: ConvergenceWarning: Stochastic Optimizer: Maximum iterations (200) reached and the optimization hasn't converged yet.\n",
      "  % self.max_iter, ConvergenceWarning)\n"
     ]
    },
    {
     "name": "stdout",
     "output_type": "stream",
     "text": [
      "MLPClassifier : 0.965\n",
      "RandomForestClassifier : 0.988\n",
      "AdaBoostClassifier : 0.9603333333333334\n",
      "BaggingClassifier : 0.981\n"
     ]
    },
    {
     "name": "stderr",
     "output_type": "stream",
     "text": [
      "C:\\Users\\shikhar.srivastava\\AppData\\Local\\Continuum\\anaconda3\\lib\\site-packages\\sklearn\\ensemble\\forest.py:246: FutureWarning: The default value of n_estimators will change from 10 in version 0.20 to 100 in 0.22.\n",
      "  \"10 in version 0.20 to 100 in 0.22.\", FutureWarning)\n"
     ]
    },
    {
     "name": "stdout",
     "output_type": "stream",
     "text": [
      "ExtraTreesClassifier : 0.9823333333333333\n",
      "GradientBoostingClassifier : 0.9736666666666667\n"
     ]
    }
   ],
   "source": [
    "for clf_name, clf in classifiers.items() :\n",
    "    \n",
    "    clf.fit(X_train, y_train)\n",
    "    \n",
    "    prediction = clf.predict_proba(X_test) # predicting on the validation set\n",
    "    prediction_int = prediction[:,1] >= 0.5 # if prediction is greater than or equal to 0.5 than 1 else 0\n",
    "    prediction_int = prediction_int.astype(np.int)\n",
    "    \n",
    "    print( \"{} : {}\".format( clf_name, accuracy_score(y_test, prediction_int) ) )"
   ]
  },
  {
   "cell_type": "code",
   "execution_count": 27,
   "metadata": {
    "ExecuteTime": {
     "end_time": "2019-08-12T05:34:04.780542Z",
     "start_time": "2019-08-12T05:34:04.771688Z"
    }
   },
   "outputs": [
    {
     "data": {
      "text/plain": [
       "RandomForestClassifier(bootstrap=True, class_weight=None, criterion='entropy',\n",
       "            max_depth=20, max_features='auto', max_leaf_nodes=None,\n",
       "            min_impurity_decrease=0.0, min_impurity_split=None,\n",
       "            min_samples_leaf=1, min_samples_split=2,\n",
       "            min_weight_fraction_leaf=0.0, n_estimators=30, n_jobs=-1,\n",
       "            oob_score=True, random_state=42, verbose=0, warm_start=False)"
      ]
     },
     "execution_count": 27,
     "metadata": {},
     "output_type": "execute_result"
    }
   ],
   "source": [
    "clf"
   ]
  },
  {
   "cell_type": "markdown",
   "metadata": {},
   "source": [
    "### Deep Learning Model"
   ]
  },
  {
   "cell_type": "code",
   "execution_count": 34,
   "metadata": {
    "ExecuteTime": {
     "end_time": "2019-08-12T07:09:20.761750Z",
     "start_time": "2019-08-12T07:09:20.747996Z"
    }
   },
   "outputs": [],
   "source": [
    "def create_baseline():\n",
    "    \n",
    "    model = Sequential()\n",
    "    model.add(Dense(1000, activation='relu'))\n",
    "    model.add(Dropout(0.5))\n",
    "    model.add(Dense(500, activation='relu'))\n",
    "    model.add(Dropout(0.5))\n",
    "    model.add(Dense(200, activation='relu'))\n",
    "    model.add(Dropout(0.5))\n",
    "    model.add(Dense(100, activation='relu'))\n",
    "    model.add(Dropout(0.5))\n",
    "    model.add(Dense(1, activation='sigmoid'))\n",
    "    \n",
    "    model.compile(loss='binary_crossentropy', optimizer='adam', metrics=['accuracy'])\n",
    "    return model"
   ]
  },
  {
   "cell_type": "code",
   "execution_count": 37,
   "metadata": {
    "ExecuteTime": {
     "end_time": "2019-08-12T07:16:00.868373Z",
     "start_time": "2019-08-12T07:12:52.320874Z"
    }
   },
   "outputs": [
    {
     "name": "stdout",
     "output_type": "stream",
     "text": [
      "Train on 9599 samples, validate on 2400 samples\n",
      "Epoch 1/100\n",
      "9599/9599 [==============================] - 3s 340us/step - loss: 0.4188 - acc: 0.8037 - val_loss: 0.2500 - val_acc: 0.9042\n",
      "Epoch 2/100\n",
      "9599/9599 [==============================] - 2s 179us/step - loss: 0.2451 - acc: 0.9131 - val_loss: 0.1802 - val_acc: 0.9471\n",
      "Epoch 3/100\n",
      "9599/9599 [==============================] - 2s 197us/step - loss: 0.1943 - acc: 0.9359 - val_loss: 0.1685 - val_acc: 0.9492\n",
      "Epoch 4/100\n",
      "9599/9599 [==============================] - 2s 201us/step - loss: 0.1858 - acc: 0.9403 - val_loss: 0.1751 - val_acc: 0.9492\n",
      "Epoch 5/100\n",
      "9599/9599 [==============================] - 2s 189us/step - loss: 0.1699 - acc: 0.9480 - val_loss: 0.1557 - val_acc: 0.9550\n",
      "Epoch 6/100\n",
      "9599/9599 [==============================] - 2s 199us/step - loss: 0.1656 - acc: 0.9512 - val_loss: 0.1507 - val_acc: 0.9583\n",
      "Epoch 7/100\n",
      "9599/9599 [==============================] - 2s 193us/step - loss: 0.1538 - acc: 0.9547 - val_loss: 0.1575 - val_acc: 0.9554\n",
      "Epoch 8/100\n",
      "9599/9599 [==============================] - 2s 201us/step - loss: 0.1497 - acc: 0.9531 - val_loss: 0.1444 - val_acc: 0.9612\n",
      "Epoch 9/100\n",
      "9599/9599 [==============================] - 2s 201us/step - loss: 0.1461 - acc: 0.9571 - val_loss: 0.1409 - val_acc: 0.9617\n",
      "Epoch 10/100\n",
      "9599/9599 [==============================] - 2s 201us/step - loss: 0.1431 - acc: 0.9593 - val_loss: 0.1457 - val_acc: 0.9596\n",
      "Epoch 11/100\n",
      "9599/9599 [==============================] - 2s 199us/step - loss: 0.1376 - acc: 0.9587 - val_loss: 0.1350 - val_acc: 0.9633\n",
      "Epoch 12/100\n",
      "9599/9599 [==============================] - 2s 197us/step - loss: 0.1300 - acc: 0.9608 - val_loss: 0.1419 - val_acc: 0.9625\n",
      "Epoch 13/100\n",
      "9599/9599 [==============================] - 2s 193us/step - loss: 0.1289 - acc: 0.9624 - val_loss: 0.1385 - val_acc: 0.9629\n",
      "Epoch 14/100\n",
      "9599/9599 [==============================] - 2s 196us/step - loss: 0.1239 - acc: 0.9617 - val_loss: 0.1339 - val_acc: 0.9646\n",
      "Epoch 15/100\n",
      "9599/9599 [==============================] - 2s 199us/step - loss: 0.1211 - acc: 0.9619 - val_loss: 0.1415 - val_acc: 0.9629\n",
      "Epoch 16/100\n",
      "9599/9599 [==============================] - 2s 203us/step - loss: 0.1209 - acc: 0.9612 - val_loss: 0.1392 - val_acc: 0.9617\n",
      "Epoch 17/100\n",
      "9599/9599 [==============================] - 2s 198us/step - loss: 0.1154 - acc: 0.9643 - val_loss: 0.1347 - val_acc: 0.9646\n",
      "Epoch 18/100\n",
      "9599/9599 [==============================] - 2s 178us/step - loss: 0.1150 - acc: 0.9622 - val_loss: 0.1296 - val_acc: 0.9642\n",
      "Epoch 19/100\n",
      "9599/9599 [==============================] - 2s 199us/step - loss: 0.1084 - acc: 0.9656 - val_loss: 0.1380 - val_acc: 0.9629\n",
      "Epoch 20/100\n",
      "9599/9599 [==============================] - 2s 199us/step - loss: 0.1093 - acc: 0.9652 - val_loss: 0.1303 - val_acc: 0.9633\n",
      "Epoch 21/100\n",
      "9599/9599 [==============================] - 2s 202us/step - loss: 0.1082 - acc: 0.9661 - val_loss: 0.1275 - val_acc: 0.9667\n",
      "Epoch 22/100\n",
      "9599/9599 [==============================] - 2s 198us/step - loss: 0.1094 - acc: 0.9678 - val_loss: 0.1272 - val_acc: 0.9667\n",
      "Epoch 23/100\n",
      "9599/9599 [==============================] - 2s 197us/step - loss: 0.1012 - acc: 0.9672 - val_loss: 0.1226 - val_acc: 0.9688\n",
      "Epoch 24/100\n",
      "9599/9599 [==============================] - 2s 198us/step - loss: 0.1063 - acc: 0.9667 - val_loss: 0.1249 - val_acc: 0.9671\n",
      "Epoch 25/100\n",
      "9599/9599 [==============================] - 2s 198us/step - loss: 0.1016 - acc: 0.9691 - val_loss: 0.1287 - val_acc: 0.9662\n",
      "Epoch 26/100\n",
      "9599/9599 [==============================] - 2s 194us/step - loss: 0.0949 - acc: 0.9693 - val_loss: 0.1251 - val_acc: 0.9671\n",
      "Epoch 27/100\n",
      "9599/9599 [==============================] - 2s 196us/step - loss: 0.0982 - acc: 0.9673 - val_loss: 0.1270 - val_acc: 0.9654\n",
      "Epoch 28/100\n",
      "9599/9599 [==============================] - 2s 193us/step - loss: 0.0966 - acc: 0.9687 - val_loss: 0.1247 - val_acc: 0.9688\n",
      "Epoch 29/100\n",
      "9599/9599 [==============================] - 2s 185us/step - loss: 0.0991 - acc: 0.9672 - val_loss: 0.1225 - val_acc: 0.9692\n",
      "Epoch 30/100\n",
      "9599/9599 [==============================] - 2s 199us/step - loss: 0.0962 - acc: 0.9686 - val_loss: 0.1290 - val_acc: 0.9683\n",
      "Epoch 31/100\n",
      "9599/9599 [==============================] - 2s 195us/step - loss: 0.0929 - acc: 0.9685 - val_loss: 0.1314 - val_acc: 0.9646\n",
      "Epoch 32/100\n",
      "9599/9599 [==============================] - 2s 195us/step - loss: 0.0921 - acc: 0.9704 - val_loss: 0.1266 - val_acc: 0.9679\n",
      "Epoch 33/100\n",
      "9599/9599 [==============================] - 2s 198us/step - loss: 0.0914 - acc: 0.9695 - val_loss: 0.1265 - val_acc: 0.9692\n",
      "Epoch 34/100\n",
      "9599/9599 [==============================] - 2s 178us/step - loss: 0.0880 - acc: 0.9712 - val_loss: 0.1276 - val_acc: 0.9692\n",
      "Epoch 35/100\n",
      "9599/9599 [==============================] - 2s 197us/step - loss: 0.0894 - acc: 0.9712 - val_loss: 0.1216 - val_acc: 0.9704\n",
      "Epoch 36/100\n",
      "9599/9599 [==============================] - 2s 200us/step - loss: 0.0903 - acc: 0.9703 - val_loss: 0.1252 - val_acc: 0.9667\n",
      "Epoch 37/100\n",
      "9599/9599 [==============================] - 2s 196us/step - loss: 0.0850 - acc: 0.9701 - val_loss: 0.1248 - val_acc: 0.9675\n",
      "Epoch 38/100\n",
      "9599/9599 [==============================] - 2s 200us/step - loss: 0.0852 - acc: 0.9719 - val_loss: 0.1292 - val_acc: 0.9696\n",
      "Epoch 39/100\n",
      "9599/9599 [==============================] - 2s 195us/step - loss: 0.0884 - acc: 0.9708 - val_loss: 0.1251 - val_acc: 0.9696\n",
      "Epoch 40/100\n",
      "9599/9599 [==============================] - 2s 204us/step - loss: 0.0887 - acc: 0.9716 - val_loss: 0.1280 - val_acc: 0.9679\n",
      "Epoch 41/100\n",
      "9599/9599 [==============================] - 2s 198us/step - loss: 0.0829 - acc: 0.9737 - val_loss: 0.1240 - val_acc: 0.9704\n",
      "Epoch 42/100\n",
      "9599/9599 [==============================] - 2s 195us/step - loss: 0.0785 - acc: 0.9731 - val_loss: 0.1319 - val_acc: 0.9692\n",
      "Epoch 43/100\n",
      "9599/9599 [==============================] - 2s 196us/step - loss: 0.0743 - acc: 0.9746 - val_loss: 0.1249 - val_acc: 0.9696\n",
      "Epoch 44/100\n",
      "9599/9599 [==============================] - 2s 195us/step - loss: 0.0806 - acc: 0.9735 - val_loss: 0.1283 - val_acc: 0.9692\n",
      "Epoch 45/100\n",
      "9599/9599 [==============================] - 2s 191us/step - loss: 0.0796 - acc: 0.9730 - val_loss: 0.1290 - val_acc: 0.9696\n",
      "Epoch 46/100\n",
      "9599/9599 [==============================] - 2s 193us/step - loss: 0.0805 - acc: 0.9732 - val_loss: 0.1240 - val_acc: 0.9688\n",
      "Epoch 47/100\n",
      "9599/9599 [==============================] - 2s 195us/step - loss: 0.0720 - acc: 0.9751 - val_loss: 0.1304 - val_acc: 0.9679\n",
      "Epoch 48/100\n",
      "9599/9599 [==============================] - 2s 191us/step - loss: 0.0783 - acc: 0.9741 - val_loss: 0.1287 - val_acc: 0.9683\n",
      "Epoch 49/100\n",
      "9599/9599 [==============================] - 2s 199us/step - loss: 0.0718 - acc: 0.9751 - val_loss: 0.1334 - val_acc: 0.9667\n",
      "Epoch 50/100\n",
      "9599/9599 [==============================] - 2s 186us/step - loss: 0.0696 - acc: 0.9774 - val_loss: 0.1224 - val_acc: 0.9692\n",
      "Epoch 51/100\n",
      "9599/9599 [==============================] - 2s 197us/step - loss: 0.0741 - acc: 0.9743 - val_loss: 0.1279 - val_acc: 0.9688\n",
      "Epoch 52/100\n",
      "9599/9599 [==============================] - 2s 196us/step - loss: 0.0715 - acc: 0.9764 - val_loss: 0.1313 - val_acc: 0.9713\n",
      "Epoch 53/100\n",
      "9599/9599 [==============================] - 2s 176us/step - loss: 0.0740 - acc: 0.9740 - val_loss: 0.1193 - val_acc: 0.9721\n",
      "Epoch 54/100\n",
      "9599/9599 [==============================] - 2s 188us/step - loss: 0.0686 - acc: 0.9775 - val_loss: 0.1323 - val_acc: 0.9688\n",
      "Epoch 55/100\n",
      "9599/9599 [==============================] - 2s 183us/step - loss: 0.0708 - acc: 0.9765 - val_loss: 0.1269 - val_acc: 0.9675\n",
      "Epoch 56/100\n",
      "9599/9599 [==============================] - 2s 187us/step - loss: 0.0698 - acc: 0.9751 - val_loss: 0.1220 - val_acc: 0.9692\n",
      "Epoch 57/100\n",
      "9599/9599 [==============================] - 2s 193us/step - loss: 0.0681 - acc: 0.9776 - val_loss: 0.1327 - val_acc: 0.9721\n",
      "Epoch 58/100\n",
      "9599/9599 [==============================] - 2s 201us/step - loss: 0.0666 - acc: 0.9783 - val_loss: 0.1266 - val_acc: 0.9704\n",
      "Epoch 59/100\n",
      "9599/9599 [==============================] - 2s 197us/step - loss: 0.0635 - acc: 0.9777 - val_loss: 0.1360 - val_acc: 0.9700\n",
      "Epoch 60/100\n"
     ]
    },
    {
     "name": "stdout",
     "output_type": "stream",
     "text": [
      "9599/9599 [==============================] - 2s 202us/step - loss: 0.0670 - acc: 0.9756 - val_loss: 0.1238 - val_acc: 0.9700\n",
      "Epoch 61/100\n",
      "9599/9599 [==============================] - 2s 186us/step - loss: 0.0648 - acc: 0.9776 - val_loss: 0.1310 - val_acc: 0.9704\n",
      "Epoch 62/100\n",
      "9599/9599 [==============================] - 2s 196us/step - loss: 0.0689 - acc: 0.9777 - val_loss: 0.1315 - val_acc: 0.9679\n",
      "Epoch 63/100\n",
      "9599/9599 [==============================] - 2s 200us/step - loss: 0.0680 - acc: 0.9774 - val_loss: 0.1267 - val_acc: 0.9700\n",
      "Epoch 64/100\n",
      "9599/9599 [==============================] - 2s 202us/step - loss: 0.0659 - acc: 0.9781 - val_loss: 0.1174 - val_acc: 0.9717\n",
      "Epoch 65/100\n",
      "9599/9599 [==============================] - 2s 190us/step - loss: 0.0674 - acc: 0.9771 - val_loss: 0.1311 - val_acc: 0.9683\n",
      "Epoch 66/100\n",
      "9599/9599 [==============================] - 2s 175us/step - loss: 0.0646 - acc: 0.9771 - val_loss: 0.1299 - val_acc: 0.9679\n",
      "Epoch 67/100\n",
      "9599/9599 [==============================] - 2s 201us/step - loss: 0.0624 - acc: 0.9790 - val_loss: 0.1214 - val_acc: 0.9738\n",
      "Epoch 68/100\n",
      "9599/9599 [==============================] - 2s 199us/step - loss: 0.0585 - acc: 0.9806 - val_loss: 0.1268 - val_acc: 0.9713\n",
      "Epoch 69/100\n",
      "9599/9599 [==============================] - 2s 200us/step - loss: 0.0623 - acc: 0.9779 - val_loss: 0.1272 - val_acc: 0.9708\n",
      "Epoch 70/100\n",
      "9599/9599 [==============================] - 2s 200us/step - loss: 0.0630 - acc: 0.9790 - val_loss: 0.1292 - val_acc: 0.9738\n",
      "Epoch 71/100\n",
      "9599/9599 [==============================] - 2s 187us/step - loss: 0.0613 - acc: 0.9775 - val_loss: 0.1302 - val_acc: 0.9704\n",
      "Epoch 72/100\n",
      "9599/9599 [==============================] - 2s 184us/step - loss: 0.0616 - acc: 0.9776 - val_loss: 0.1254 - val_acc: 0.9708\n",
      "Epoch 73/100\n",
      "9599/9599 [==============================] - 2s 182us/step - loss: 0.0544 - acc: 0.9817 - val_loss: 0.1345 - val_acc: 0.9713\n",
      "Epoch 74/100\n",
      "9599/9599 [==============================] - 2s 187us/step - loss: 0.0575 - acc: 0.9810 - val_loss: 0.1308 - val_acc: 0.9708\n",
      "Epoch 75/100\n",
      "9599/9599 [==============================] - 2s 191us/step - loss: 0.0643 - acc: 0.9777 - val_loss: 0.1312 - val_acc: 0.9721\n",
      "Epoch 76/100\n",
      "9599/9599 [==============================] - 2s 175us/step - loss: 0.0543 - acc: 0.9802 - val_loss: 0.1371 - val_acc: 0.9725\n",
      "Epoch 77/100\n",
      "9599/9599 [==============================] - 2s 184us/step - loss: 0.0545 - acc: 0.9820 - val_loss: 0.1434 - val_acc: 0.9750\n",
      "Epoch 78/100\n",
      "9599/9599 [==============================] - 2s 182us/step - loss: 0.0587 - acc: 0.9806 - val_loss: 0.1329 - val_acc: 0.9746\n",
      "Epoch 79/100\n",
      "9599/9599 [==============================] - 2s 179us/step - loss: 0.0612 - acc: 0.9797 - val_loss: 0.1347 - val_acc: 0.9721\n",
      "Epoch 80/100\n",
      "9599/9599 [==============================] - 2s 184us/step - loss: 0.0559 - acc: 0.9791 - val_loss: 0.1396 - val_acc: 0.9738\n",
      "Epoch 81/100\n",
      "9599/9599 [==============================] - 2s 188us/step - loss: 0.0547 - acc: 0.9806 - val_loss: 0.1385 - val_acc: 0.9721\n",
      "Epoch 82/100\n",
      "9599/9599 [==============================] - 2s 184us/step - loss: 0.0551 - acc: 0.9810 - val_loss: 0.1351 - val_acc: 0.9733\n",
      "Epoch 83/100\n",
      "9599/9599 [==============================] - 2s 183us/step - loss: 0.0531 - acc: 0.9815 - val_loss: 0.1414 - val_acc: 0.9742\n",
      "Epoch 84/100\n",
      "9599/9599 [==============================] - 2s 197us/step - loss: 0.0549 - acc: 0.9821 - val_loss: 0.1427 - val_acc: 0.9750\n",
      "Epoch 85/100\n",
      "9599/9599 [==============================] - 2s 198us/step - loss: 0.0538 - acc: 0.9815 - val_loss: 0.1408 - val_acc: 0.9754\n",
      "Epoch 86/100\n",
      "9599/9599 [==============================] - 2s 199us/step - loss: 0.0548 - acc: 0.9805 - val_loss: 0.1529 - val_acc: 0.9754\n",
      "Epoch 87/100\n",
      "9599/9599 [==============================] - 2s 197us/step - loss: 0.0498 - acc: 0.9829 - val_loss: 0.1538 - val_acc: 0.9729\n",
      "Epoch 88/100\n",
      "9599/9599 [==============================] - 2s 195us/step - loss: 0.0524 - acc: 0.9823 - val_loss: 0.1381 - val_acc: 0.9742\n",
      "Epoch 89/100\n",
      "9599/9599 [==============================] - 2s 196us/step - loss: 0.0509 - acc: 0.9823 - val_loss: 0.1418 - val_acc: 0.9721\n",
      "Epoch 90/100\n",
      "9599/9599 [==============================] - 2s 187us/step - loss: 0.0512 - acc: 0.9824 - val_loss: 0.1375 - val_acc: 0.9746\n",
      "Epoch 91/100\n",
      "9599/9599 [==============================] - 2s 178us/step - loss: 0.0482 - acc: 0.9830 - val_loss: 0.1495 - val_acc: 0.9758\n",
      "Epoch 92/100\n",
      "9599/9599 [==============================] - 2s 185us/step - loss: 0.0518 - acc: 0.9825 - val_loss: 0.1381 - val_acc: 0.9712\n",
      "Epoch 93/100\n",
      "9599/9599 [==============================] - 2s 192us/step - loss: 0.0519 - acc: 0.9823 - val_loss: 0.1441 - val_acc: 0.9725\n",
      "Epoch 94/100\n",
      "9599/9599 [==============================] - 2s 191us/step - loss: 0.0500 - acc: 0.9819 - val_loss: 0.1432 - val_acc: 0.9738\n",
      "Epoch 95/100\n",
      "9599/9599 [==============================] - 2s 194us/step - loss: 0.0486 - acc: 0.9844 - val_loss: 0.1397 - val_acc: 0.9750\n",
      "Epoch 96/100\n",
      "9599/9599 [==============================] - 2s 201us/step - loss: 0.0505 - acc: 0.9831 - val_loss: 0.1412 - val_acc: 0.9754\n",
      "Epoch 97/100\n",
      "9599/9599 [==============================] - 2s 202us/step - loss: 0.0476 - acc: 0.9851 - val_loss: 0.1439 - val_acc: 0.9754\n",
      "Epoch 98/100\n",
      "9599/9599 [==============================] - 2s 200us/step - loss: 0.0539 - acc: 0.9816 - val_loss: 0.1356 - val_acc: 0.9746\n",
      "Epoch 99/100\n",
      "9599/9599 [==============================] - 2s 181us/step - loss: 0.0515 - acc: 0.9841 - val_loss: 0.1483 - val_acc: 0.9746\n",
      "Epoch 100/100\n",
      "9599/9599 [==============================] - 2s 201us/step - loss: 0.0462 - acc: 0.9839 - val_loss: 0.1475 - val_acc: 0.9742\n"
     ]
    },
    {
     "data": {
      "text/plain": [
       "<keras.callbacks.History at 0x23ca2c7a198>"
      ]
     },
     "execution_count": 37,
     "metadata": {},
     "output_type": "execute_result"
    }
   ],
   "source": [
    "estimator = KerasClassifier(build_fn=create_baseline, epochs=100, batch_size=150, verbose=1)\n",
    "# kfold = StratifiedKFold(n_splits=5, shuffle=True, random_state=42)\n",
    "# results = cross_val_score(estimator, X, y, cv=kfold)\n",
    "# print(\"Results: %.2f%% (%.2f%%)\" % (results.mean()*100, results.std()*100))\n",
    "early_stopping_monitor = EarlyStopping(patience=3)\n",
    "estimator.fit(X_train, y_train, validation_split=0.20)"
   ]
  },
  {
   "cell_type": "code",
   "execution_count": 38,
   "metadata": {
    "ExecuteTime": {
     "end_time": "2019-08-12T07:19:27.960686Z",
     "start_time": "2019-08-12T07:19:27.599068Z"
    }
   },
   "outputs": [
    {
     "name": "stdout",
     "output_type": "stream",
     "text": [
      "3000/3000 [==============================] - 0s 115us/step\n"
     ]
    },
    {
     "data": {
      "text/plain": [
       "0.9736666666666667"
      ]
     },
     "execution_count": 38,
     "metadata": {},
     "output_type": "execute_result"
    }
   ],
   "source": [
    "prediction = estimator.predict_proba(X_test)\n",
    "prediction_int = prediction[:,1] >= 0.5 # if prediction is greater than or equal to 0.5 than 1 else 0\n",
    "prediction_int = prediction_int.astype(np.int)\n",
    "\n",
    "accuracy_score(y_test, prediction_int)"
   ]
  },
  {
   "cell_type": "code",
   "execution_count": null,
   "metadata": {},
   "outputs": [],
   "source": []
  }
 ],
 "metadata": {
  "kernelspec": {
   "display_name": "Python 3",
   "language": "python",
   "name": "python3"
  },
  "language_info": {
   "codemirror_mode": {
    "name": "ipython",
    "version": 3
   },
   "file_extension": ".py",
   "mimetype": "text/x-python",
   "name": "python",
   "nbconvert_exporter": "python",
   "pygments_lexer": "ipython3",
   "version": "3.7.3"
  },
  "toc": {
   "base_numbering": 1,
   "nav_menu": {},
   "number_sections": true,
   "sideBar": true,
   "skip_h1_title": false,
   "title_cell": "Table of Contents",
   "title_sidebar": "Contents",
   "toc_cell": false,
   "toc_position": {},
   "toc_section_display": true,
   "toc_window_display": false
  },
  "varInspector": {
   "cols": {
    "lenName": 16,
    "lenType": 16,
    "lenVar": 40
   },
   "kernels_config": {
    "python": {
     "delete_cmd_postfix": "",
     "delete_cmd_prefix": "del ",
     "library": "var_list.py",
     "varRefreshCmd": "print(var_dic_list())"
    },
    "r": {
     "delete_cmd_postfix": ") ",
     "delete_cmd_prefix": "rm(",
     "library": "var_list.r",
     "varRefreshCmd": "cat(var_dic_list()) "
    }
   },
   "types_to_exclude": [
    "module",
    "function",
    "builtin_function_or_method",
    "instance",
    "_Feature"
   ],
   "window_display": false
  }
 },
 "nbformat": 4,
 "nbformat_minor": 2
}
