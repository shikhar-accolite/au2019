{
 "cells": [
  {
   "cell_type": "code",
   "execution_count": 3,
   "metadata": {},
   "outputs": [],
   "source": [
    "# Linear Regression 17-July\n",
    "# Assignment :- Flask/Django setup and use.\n",
    "# Assignment :- Implement Simple Linear Regression using Python and calculate MSE.\n",
    "# Assignment :- "
   ]
  },
  {
   "cell_type": "markdown",
   "metadata": {},
   "source": [
    "## Linear Regression"
   ]
  },
  {
   "cell_type": "code",
   "execution_count": 4,
   "metadata": {},
   "outputs": [
    {
     "name": "stdout",
     "output_type": "stream",
     "text": [
      "[20 60 51 77 79 90 21 51 74 77 16 39 13 93 27 75 47 31 90 74 32 82 82  2\n",
      "  6 32 59 12 56 40  9 44 57 92 12 34 71 35 64 60 42 78 87 42 32 70 83 16\n",
      " 32 42]\n",
      "[ 70 150 132 184 188 210  72 132 178 184  62 108  56 216  84 180 124  92\n",
      " 210 178  94 194 194  34  42  94 148  54 142 110  48 118 144 214  54 135\n",
      "  94 181 145 110 116 170 125 123 124 193 183 119 198 101]\n"
     ]
    }
   ],
   "source": [
    "import numpy as np\n",
    "\n",
    "np.random.seed(seed=66)\n",
    "x = np.random.randint(100, size=50)\n",
    "y = np.concatenate( ( (2 * x[:35] + 30), (np.random.randint(200, size=15) ) ) )\n",
    "\n",
    "print(x)\n",
    "print(y)"
   ]
  },
  {
   "cell_type": "raw",
   "metadata": {},
   "source": [
    "import seaborn as sns\n",
    "import numpy as np\n",
    "\n",
    "tips_data = sns.load_dataset(\"tips\")\n",
    "x = np.array(tips_data.total_bill)\n",
    "y = np.array(tips_data.tip)"
   ]
  },
  {
   "cell_type": "code",
   "execution_count": 5,
   "metadata": {},
   "outputs": [
    {
     "data": {
      "text/plain": [
       "<Figure size 640x480 with 1 Axes>"
      ]
     },
     "metadata": {},
     "output_type": "display_data"
    },
    {
     "data": {
      "text/plain": [
       "(48.65850935943674, 1.6645715267044485)"
      ]
     },
     "execution_count": 5,
     "metadata": {},
     "output_type": "execute_result"
    }
   ],
   "source": [
    "import matplotlib.pyplot as plt\n",
    "\n",
    "m, c = np.polyfit(x, y, 1)\n",
    "\n",
    "plt.scatter( x, y )\n",
    "plt.plot( x, c + m * x, color=\"red\")\n",
    "plt.show()\n",
    "\n",
    "c, m"
   ]
  },
  {
   "cell_type": "markdown",
   "metadata": {},
   "source": [
    "### Slope Coefficient and Intercept using the formula"
   ]
  },
  {
   "cell_type": "code",
   "execution_count": 6,
   "metadata": {},
   "outputs": [
    {
     "name": "stdout",
     "output_type": "stream",
     "text": [
      "1.6645715267044479 48.65850935943671\n",
      "682.0085327150954\n"
     ]
    }
   ],
   "source": [
    "slope_coef = sum( ( x - np.mean(x) ) * ( y - np.mean(y) ) ) / sum(( x - np.mean(x) ) ** 2)\n",
    "intercept = np.mean(y) - slope_coef * np.mean(x)\n",
    "\n",
    "print(slope_coef, intercept)\n",
    "\n",
    "observed_y = intercept + slope_coef * x\n",
    "mean_squared_error = sum( (y - observed_y) ** 2 ) / x.shape[0]\n",
    "\n",
    "print(mean_squared_error)"
   ]
  },
  {
   "cell_type": "code",
   "execution_count": 7,
   "metadata": {},
   "outputs": [],
   "source": [
    "# observed_y"
   ]
  },
  {
   "cell_type": "markdown",
   "metadata": {},
   "source": [
    "### Slope Coefficent and Intercept using the LinearRegression Model"
   ]
  },
  {
   "cell_type": "code",
   "execution_count": 8,
   "metadata": {},
   "outputs": [
    {
     "name": "stdout",
     "output_type": "stream",
     "text": [
      "[[1.66457153]] [48.65850936]\n",
      "-6.706658108508395\n"
     ]
    }
   ],
   "source": [
    "from sklearn.linear_model import LinearRegression\n",
    "\n",
    "x = x.reshape(-1, 1)\n",
    "y = y.reshape(-1, 1)\n",
    "\n",
    "lr = LinearRegression().fit(x, y)\n",
    "y_pred = lr.predict(x)\n",
    "\n",
    "print( lr.coef_, lr.intercept_ )\n",
    "\n",
    "print( lr.score(y_pred, y) )"
   ]
  }
 ],
 "metadata": {
  "kernelspec": {
   "display_name": "Python 3",
   "language": "python",
   "name": "python3"
  },
  "language_info": {
   "codemirror_mode": {
    "name": "ipython",
    "version": 3
   },
   "file_extension": ".py",
   "mimetype": "text/x-python",
   "name": "python",
   "nbconvert_exporter": "python",
   "pygments_lexer": "ipython3",
   "version": "3.7.3"
  }
 },
 "nbformat": 4,
 "nbformat_minor": 2
}
